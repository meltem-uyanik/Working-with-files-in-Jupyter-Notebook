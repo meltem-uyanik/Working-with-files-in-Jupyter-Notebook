{
 "cells": [
  {
   "cell_type": "markdown",
   "id": "9c5e64dc-2bc7-4640-9b71-877eda7b6100",
   "metadata": {},
   "source": [
    "<center>\n",
    "    <img src=\"https://cf-courses-data.s3.us.cloud-object-storage.appdomain.cloud/IBMDeveloperSkillsNetwork-DS0105EN-SkillsNetwork/labs/Module2/images/SN_web_lightmode.png\" width=\"300\" alt=\"cognitiveclass.ai logo\">\n",
    "</center>\n"
   ]
  },
  {
   "cell_type": "markdown",
   "id": "bca0d27a-24c6-4c43-b116-c73c8d9ab219",
   "metadata": {},
   "source": [
    "# Hands-on Lab: Create your Jupyter Notebook\n"
   ]
  },
  {
   "cell_type": "markdown",
   "metadata": {},
   "source": [
    "# Data Science Tools and Ecosystem"
   ]
  },
  {
   "cell_type": "markdown",
   "metadata": {},
   "source": [
    "In this notebook, Data Science Tools and Ecosystem are summarized."
   ]
  },
  {
   "cell_type": "markdown",
   "metadata": {},
   "source": [
    "**Objectives:**\n",
    "\n",
    "- Languages of Data Science\n",
    "\n",
    "- Libraries for Data Science\n",
    "\n",
    "- Data Science Tools\n"
   ]
  },
  {
   "cell_type": "markdown",
   "id": "e7ba372f-335a-4836-943b-f9cf0fa309b0",
   "metadata": {},
   "source": [
    "Some of the popular languages that Data Scientists use are:\n",
    "\n",
    "1. Python\n",
    "2. R\n",
    "3. SQL\n",
    "4. Scala\n",
    "5. Julia"
   ]
  },
  {
   "cell_type": "markdown",
   "metadata": {},
   "source": [
    "Some of the commonly used libraries used by Data Scientists include:\n",
    "\n",
    "1. pandas\n",
    "2. numpy\n",
    "3. matplotlib\n",
    "4. seaborn\n",
    "5. scikit-learn"
   ]
  },
  {
   "cell_type": "markdown",
   "metadata": {},
   "source": [
    "| Data Science Tools | \n",
    "| -------------| \n",
    "| Jupyter Notebook | \n",
    "| R Studio | \n",
    "| Jupyter Lab| "
   ]
  },
  {
   "cell_type": "markdown",
   "metadata": {},
   "source": [
    "### Below are a few examples of evaluating arithmetic expressions in Python"
   ]
  },
  {
   "cell_type": "code",
   "execution_count": 2,
   "metadata": {},
   "outputs": [
    {
     "data": {
      "text/plain": [
       "17"
      ]
     },
     "execution_count": 2,
     "metadata": {},
     "output_type": "execute_result"
    }
   ],
   "source": [
    "#This a simple arithmetic expression to mutiply then add integers.\n",
    "(3 * 4) + 5"
   ]
  },
  {
   "cell_type": "code",
   "execution_count": 3,
   "metadata": {},
   "outputs": [
    {
     "data": {
      "text/plain": [
       "3.3333333333333335"
      ]
     },
     "execution_count": 3,
     "metadata": {},
     "output_type": "execute_result"
    }
   ],
   "source": [
    "#This will convert 200 minutes to hours by diving by 60.\n",
    "200 / 60"
   ]
  },
  {
   "cell_type": "markdown",
   "metadata": {},
   "source": [
    "## Author ##\n",
    "Meltem Uyanik"
   ]
  },
  {
   "cell_type": "markdown",
   "id": "b5f467ed-efe7-45ac-a08b-b2d48c26ba81",
   "metadata": {},
   "source": [
    "Copyright ©2024 IBM Corporation. All rights reserved.\n"
   ]
  }
 ],
 "metadata": {
  "kernelspec": {
   "display_name": "Python 3",
   "language": "python",
   "name": "python3"
  },
  "language_info": {
   "codemirror_mode": {
    "name": "ipython",
    "version": 3
   },
   "file_extension": ".py",
   "mimetype": "text/x-python",
   "name": "python",
   "nbconvert_exporter": "python",
   "pygments_lexer": "ipython3",
   "version": "3.9.6"
  },
  "prev_pub_hash": "9e1985db9844176462bd1d5863048c9f3d17404bbc6a648be9084b0c42b29347"
 },
 "nbformat": 4,
 "nbformat_minor": 4
}
